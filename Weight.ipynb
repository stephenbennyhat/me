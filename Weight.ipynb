{
 "metadata": {
  "name": "",
  "signature": "sha256:06b030ef088490cce5f89cf335cf13ccae5368e63cd92371fb52fb243a8024c1"
 },
 "nbformat": 3,
 "nbformat_minor": 0,
 "worksheets": [
  {
   "cells": [
    {
     "cell_type": "code",
     "collapsed": false,
     "input": [
      "weight = [\n",
      "          [\"01-Jan-2014\",   104.8],\n",
      "          [\"02-Jan-2014\",   105.7],\n",
      "          [\"03-Jan-2014\",   103.4],\n",
      "          [\"04-Jan-2014\",   103.9],\n",
      "          [\"05-Jan-2014\",   103.2],\n",
      "          [\"06-Jan-2014\",   102.6],\n",
      "          [\"07-Jan-2014\",   102.9],\n",
      "          [\"08-Jan-2014\",   102.9],\n",
      "          [\"09-Jan-2014\",   102.5],\n",
      "          [\"10-Jan-2014\",   102.9],\n",
      "          [\"11-Jan-2014\",   102.9],\n",
      "          [\"12-Jan-2014\",   102.5],\n",
      "          [\"13-Jan-2014\",   102.3],\n",
      "          [\"14-Jan-2014\",   102.6],\n",
      "          [\"15-Jan-2014\",   102.4],\n",
      "          [\"16-Jan-2014\",   102.4],\n",
      "          [\"17-Jan-2014\",   101.8],\n",
      "          [\"18-Jan-2014\",   101.3],\n",
      "          [\"19-Jan-2014\",   101.4],\n",
      "          [\"20-Jan-2014\",   101.2],\n",
      "          [\"21-Jan-2014\",   101.0],\n",
      "          [\"22-Jan-2014\",   100.6],\n",
      "          [\"23-Jan-2014\",   100.7],\n",
      "          [\"24-Jan-2014\",   100.3],\n",
      "          [\"25-Jan-2014\",   100.1],\n",
      "          [\"26-Jan-2014\",   100.2],\n",
      "          [\"27-Jan-2014\",   100.5],\n",
      "          [\"28-Jan-2014\",   100.1],\n",
      "          [\"29-Jan-2014\",   99.6],\n",
      "          [\"30-Jan-2014\",   99.4],\n",
      "          [\"31-Jan-2014\",   99.5],\n",
      "          [\"1-Feb-2014\",    99.5],\n",
      "          [\"2-Feb-2014\",    99.6],\n",
      "          [\"3-Feb-2014\",    99.3],\n",
      "          [\"4-Feb-2014\",    98.9],\n",
      "          [\"5-Feb-2014\",    99.4],\n",
      "          [\"6-Feb-2014\",    99.1],\n",
      "          [\"7-Feb-2014\",    98.7],\n",
      "          [\"8-Feb-2014\",    98.6],\n",
      "          [\"9-Feb-2014\",    98.2],\n",
      "          [\"10-Feb-2014\",   98.7],\n",
      "          [\"11-Feb-2014\",   98.2],\n",
      "          [\"12-Feb-2014\",   98.0],\n",
      "          [\"13-Feb-2014\",   97.6],\n",
      "          [\"14-Feb-2014\",   97.6],\n",
      "          [\"15-Feb-2014\",   97.5],\n",
      "          [\"16-Feb-2014\",   97.7],\n",
      "          [\"17-Feb-2014\",   97.7],\n",
      "          [\"18-Feb-2014\",   97.4],\n",
      "          [\"19-Feb-2014\",   97.3],\n",
      "          [\"20-Feb-2014\",   97.1],\n",
      "          [\"21-Feb-2014\",   97.2],\n",
      "          [\"22-Feb-2014\",   97.6],\n",
      "          [\"23-Feb-2014\",   97.6],\n",
      "          [\"24-Feb-2014\",   97.2],\n",
      "          [\"25-Feb-2014\",   96.8],\n",
      "          [\"26-Feb-2014\",   96.5],\n",
      "          [\"27-Feb-2014\",   96.3],\n",
      "          [\"28-Feb-2014\",   96.5],\n",
      "          [\"1-Mar-2014\",    96.1],\n",
      "          [\"2-Mar-2014\",    96.7],\n",
      "          [\"3-Mar-2014\",    96.5],\n",
      "          [\"4-Mar-2014\",    95.9],\n",
      "          [\"5-Mar-2014\",    96.1],\n",
      "          [\"6-Mar-2014\",    96.4],\n",
      "          [\"7-Mar-2014\",    96.2],\n",
      "          [\"8-Mar-2014\",    96.6],\n",
      "          [\"9-Mar-2014\",    95.8],\n",
      "          [\"10-Mar-2014\",   95.7],\n",
      "          [\"11-Mar-2014\",   95.6],\n",
      "          [\"12-Mar-2014\",   95.0],\n",
      "          [\"13-Mar-2014\",   95.3],\n",
      "          [\"14-Mar-2014\",   94.7],\n",
      "          [\"15-Mar-2014\",   95.3],\n",
      "          [\"16-Mar-2014\",   95.1],\n",
      "          [\"17-Mar-2014\",   94.8],\n",
      "          [\"18-Mar-2014\",   94.4],\n",
      "          [\"19-Mar-2014\",   94.2],\n",
      "          [\"20-Mar-2014\",   94.7],\n",
      "          [\"21-Mar-2014\",   94.0],\n",
      "          [\"22-Mar-2014\",   94.6],\n",
      "          [\"23-Mar-2014\",   95.0],\n",
      "          [\"24-Mar-2014\",   95.1],\n",
      "          [\"25-Mar-2014\",   94.9],\n",
      "          [\"26-Mar-2014\",   94.5],\n",
      "          [\"27-Mar-2014\",   93.8],\n",
      "          [\"28-Mar-2014\",   93.7],\n",
      "          [\"29-Mar-2014\",   93.9],\n",
      "          [\"30-Mar-2014\",   93.8],\n",
      "          [\"31-Mar-2014\",   93.9],\n",
      "          [\"1-Apr-2014\",    93.5],\n",
      "          [\"2-Apr-2014\",    93.8],\n",
      "          [\"3-Apr-2014\",    93.9],\n",
      "          [\"4-Apr-2014\",    93.5],\n",
      "          [\"5-Apr-2014\",    93.4],\n",
      "          [\"6-Apr-2014\",    93.1],\n",
      "          [\"7-Apr-2014\",    93.7],\n",
      "          [\"8-Apr-2014\",    93.5],\n",
      "          [\"9-Apr-2014\",    93.2],\n",
      "          [\"10-Apr-2014\",   93.0],\n",
      "          [\"11-Apr-2014\",   93.7],\n",
      "          [\"12-Apr-2014\",   92.8],\n",
      "          [\"13-Apr-2014\",   92.8],\n",
      "          [\"14-Apr-2014\",   92.4],\n",
      "          [\"15-Apr-2014\",   92.0],\n",
      "          [\"16-Apr-2014\",   92.3],\n",
      "          [\"17-Apr-2014\",   92.0],\n",
      "          [\"18-Apr-2014\",   92.2],\n",
      "          [\"19-Apr-2014\",   91.7],\n",
      "          [\"20-Apr-2014\",   91.9],\n",
      "          [\"21-Apr-2014\",   91.4],\n",
      "          [\"22-Apr-2014\",   91.7],\n",
      "          [\"23-Apr-2014\",   91.2],\n",
      "          [\"24-Apr-2014\",   90.9],\n",
      "          [\"25-Apr-2014\",   91.2],\n",
      "          [\"26-Apr-2014\",   91.1],\n",
      "\n",
      "\n",
      "]"
     ],
     "language": "python",
     "metadata": {},
     "outputs": [],
     "prompt_number": 15
    },
    {
     "cell_type": "code",
     "collapsed": false,
     "input": [
      "%pylab inline\n",
      "%matplotlib inline\n",
      "if False: # nice to zoom, but slow\n",
      "    import mpld3\n",
      "    mpld3.enable_notebook()"
     ],
     "language": "python",
     "metadata": {},
     "outputs": [
      {
       "output_type": "stream",
       "stream": "stdout",
       "text": [
        "Populating the interactive namespace from numpy and matplotlib\n"
       ]
      }
     ],
     "prompt_number": 16
    },
    {
     "cell_type": "code",
     "collapsed": false,
     "input": [
      "from dateutil import parser\n",
      "import datetime as dt\n",
      "import matplotlib.pyplot as plt\n",
      "import matplotlib.dates as md\n",
      "import numpy as np\n",
      "import pandas as pd"
     ],
     "language": "python",
     "metadata": {},
     "outputs": [],
     "prompt_number": 17
    },
    {
     "cell_type": "code",
     "collapsed": false,
     "input": [
      "rcParams['figure.figsize'] = 15, 10"
     ],
     "language": "python",
     "metadata": {},
     "outputs": [],
     "prompt_number": 18
    },
    {
     "cell_type": "code",
     "collapsed": false,
     "input": [
      "KG_TO_LB = 2.20462\n",
      "\n",
      "def st_lb(kg):\n",
      "    j = kg * KG_TO_LB\n",
      "    return (int(j/14), int(j % 14))\n",
      "\n",
      "def st_lb_str(kg):\n",
      "    return \"%sst %slb\" % st_lb(kg)"
     ],
     "language": "python",
     "metadata": {},
     "outputs": [],
     "prompt_number": 19
    },
    {
     "cell_type": "code",
     "collapsed": false,
     "input": [
      "df = pd.DataFrame(weight, columns = [\"DateString\", \"Kg\"])"
     ],
     "language": "python",
     "metadata": {},
     "outputs": [],
     "prompt_number": 20
    },
    {
     "cell_type": "code",
     "collapsed": false,
     "input": [
      "# \"overweight\" is BMI<30!\n",
      "woverweight = 30*height**2\n",
      "print \"to be just overweight: %sKg: %s\" % (woverweight, st_lb_str(woverweight))"
     ],
     "language": "python",
     "metadata": {},
     "outputs": [
      {
       "ename": "NameError",
       "evalue": "name 'height' is not defined",
       "output_type": "pyerr",
       "traceback": [
        "\u001b[0;31m---------------------------------------------------------------------------\u001b[0m\n\u001b[0;31mNameError\u001b[0m                                 Traceback (most recent call last)",
        "\u001b[0;32m<ipython-input-21-b84043a3c990>\u001b[0m in \u001b[0;36m<module>\u001b[0;34m()\u001b[0m\n\u001b[1;32m      1\u001b[0m \u001b[0;31m# \"overweight\" is BMI<30!\u001b[0m\u001b[0;34m\u001b[0m\u001b[0;34m\u001b[0m\u001b[0m\n\u001b[0;32m----> 2\u001b[0;31m \u001b[0mwoverweight\u001b[0m \u001b[0;34m=\u001b[0m \u001b[0;36m30\u001b[0m\u001b[0;34m*\u001b[0m\u001b[0mheight\u001b[0m\u001b[0;34m**\u001b[0m\u001b[0;36m2\u001b[0m\u001b[0;34m\u001b[0m\u001b[0m\n\u001b[0m\u001b[1;32m      3\u001b[0m \u001b[0;32mprint\u001b[0m \u001b[0;34m\"to be just overweight: %sKg: %s\"\u001b[0m \u001b[0;34m%\u001b[0m \u001b[0;34m(\u001b[0m\u001b[0mwoverweight\u001b[0m\u001b[0;34m,\u001b[0m \u001b[0mst_lb_str\u001b[0m\u001b[0;34m(\u001b[0m\u001b[0mwoverweight\u001b[0m\u001b[0;34m)\u001b[0m\u001b[0;34m)\u001b[0m\u001b[0;34m\u001b[0m\u001b[0m\n",
        "\u001b[0;31mNameError\u001b[0m: name 'height' is not defined"
       ]
      }
     ],
     "prompt_number": 21
    },
    {
     "cell_type": "code",
     "collapsed": false,
     "input": [
      "wnormal = 25*height**2\n",
      "print \"to be a normal weight: %sKg: %s\" % (wnormal, st_lb_str(wnormal))"
     ],
     "language": "python",
     "metadata": {},
     "outputs": []
    },
    {
     "cell_type": "code",
     "collapsed": false,
     "input": [
      "target = wnormal\n",
      "delta = initial - target\n",
      "print(\"target weight=%fkg (%s) total loss=%fkg (%s)\" % (target, st_lb_str(target), delta, st_lb_str(delta)))"
     ],
     "language": "python",
     "metadata": {},
     "outputs": []
    },
    {
     "cell_type": "code",
     "collapsed": false,
     "input": [
      "df['Date'] = pd.to_datetime(df['DateString'])\n",
      "df['DateNum'] = md.date2num(df['Date'])\n",
      "df['St'] = df['Kg'].apply(lambda x: st_lb(x)[0])\n",
      "df['Lb'] = df['Kg'].apply(lambda x: st_lb(x)[1])\n",
      "df['Target'] = target\n",
      "df['Loss'] = initial - df['Kg']\n",
      "df['LossLb'] = df['Loss']*KG_TO_LB\n",
      "df['Completed%'] = 100 * df['Loss'] / delta\n",
      "df['Overweight'] = woverweight\n",
      "df['Normal'] = wnormal"
     ],
     "language": "python",
     "metadata": {},
     "outputs": []
    },
    {
     "cell_type": "markdown",
     "metadata": {},
     "source": [
      "Filter the raw measurements."
     ]
    },
    {
     "cell_type": "code",
     "collapsed": false,
     "input": [
      "df['Filtered'] = pd.rolling_mean(df['Kg'], 7)\n",
      "#df['Filtered'] = pd.ewma(df['Kg'], span=10)"
     ],
     "language": "python",
     "metadata": {},
     "outputs": []
    },
    {
     "cell_type": "markdown",
     "metadata": {},
     "source": [
      "Fit a linear curve to the raw data for the last few (NRECENT) measurements."
     ]
    },
    {
     "cell_type": "code",
     "collapsed": false,
     "input": [
      "from scipy.optimize import curve_fit\n",
      "\n",
      "NRECENT=28\n",
      "\n",
      "recent = df[-NRECENT:]\n",
      "xs = md.date2num(recent['Date'])\n",
      "ys = recent['Kg']\n",
      "\n",
      "def linear(x, a, b):\n",
      "    return a*x + b\n",
      "\n",
      "fitparams, fitcovariances = curve_fit(linear, xs, ys)\n",
      "\n",
      "#TODO: constrain to go through last measurement?\n",
      "def fit(x):\n",
      "    return linear(x, fitparams[0], fitparams[1])\n",
      "\n",
      "dwdt = fitparams[0]*1000 # g/day\n",
      "\n",
      "print(\"current dw/dt=%s\" % dwdt)\n",
      "\n",
      "# weight = date * p[0] + p[1]\n",
      "# => date = (weight - p[1]) / p[0]\n",
      "def fitdate(x):\n",
      "    return (x - fitparams[1]) / fitparams[0]\n",
      "\n",
      "# where do we hit the target?\n",
      "target_date=num2date(fitdate(target))"
     ],
     "language": "python",
     "metadata": {},
     "outputs": []
    },
    {
     "cell_type": "markdown",
     "metadata": {},
     "source": [
      "Add a column of the fitted data."
     ]
    },
    {
     "cell_type": "code",
     "collapsed": false,
     "input": [
      "df['Fit'] = fit(df['DateNum'][-NRECENT:])\n",
      "recent = df[-NRECENT:]"
     ],
     "language": "python",
     "metadata": {},
     "outputs": []
    },
    {
     "cell_type": "code",
     "collapsed": false,
     "input": [
      "df.tail(15)"
     ],
     "language": "python",
     "metadata": {},
     "outputs": []
    },
    {
     "cell_type": "code",
     "collapsed": false,
     "input": [
      "print('Hit %s at %s' % (st_lb_str(target), target_date.strftime('%d-%b-%Y')))"
     ],
     "language": "python",
     "metadata": {},
     "outputs": []
    },
    {
     "cell_type": "heading",
     "level": 2,
     "metadata": {},
     "source": [
      "Weight Change Graph"
     ]
    },
    {
     "cell_type": "code",
     "collapsed": false,
     "input": [
      "fig,ax = plt.subplots()\n",
      "ax.plot_date(df['Date'], df['Kg'], linestyle='--', label='Raw Kg')\n",
      "ax.plot_date(df['Date'], df['Filtered'], color='red', linestyle='-', marker='', label='Filtered')\n",
      "ax.plot_date(df['Date'], df['Fit'], color='green', linestyle='--', marker='', label='Linear Fit')\n",
      "if True:\n",
      "    ax.plot_date(df['Date'], df['Overweight'], color='red', linestyle='-', marker='', label='Overweight')\n",
      "    ax.plot_date(df['Date'], df['Normal'], color='orange', linestyle='-', marker='', label='Normal')\n",
      "\n",
      "fig.autofmt_xdate()\n",
      "plt.legend()\n",
      "plt.show()"
     ],
     "language": "python",
     "metadata": {},
     "outputs": []
    },
    {
     "cell_type": "heading",
     "level": 2,
     "metadata": {},
     "source": [
      "Daily changes in weight"
     ]
    },
    {
     "cell_type": "code",
     "collapsed": false,
     "input": [
      "deltakg = df['Kg'] - df['Kg'].shift()\n",
      "\n",
      "plt.figure()\n",
      "deltakg.hist(figsize=(6,3), color='lightblue', bins=30)\n",
      "plt.show()"
     ],
     "language": "python",
     "metadata": {},
     "outputs": []
    },
    {
     "cell_type": "markdown",
     "metadata": {},
     "source": [
      "Average loss per day (kg)"
     ]
    },
    {
     "cell_type": "code",
     "collapsed": false,
     "input": [
      "deltakgfilt = pd.rolling_mean(deltakg, 14) # fortnight\n",
      "\n",
      "fig,ax = plt.subplots()\n",
      "#ax.plot_date(df['Date'], deltakg, linestyle='--', label='Raw DeltaKg')\n",
      "ax.plot_date(df['Date'], deltakgfilt, color='red', linestyle='-', label='Filt DeltaKg')\n",
      "plt.show()\n"
     ],
     "language": "python",
     "metadata": {},
     "outputs": []
    },
    {
     "cell_type": "code",
     "collapsed": false,
     "input": [
      "avg_loss = -deltakg.mean() * 1000\n",
      "print(\"avg weight loss %sg/day recent %sg/day\" % (avg_loss, -dwdt))"
     ],
     "language": "python",
     "metadata": {},
     "outputs": []
    },
    {
     "cell_type": "code",
     "collapsed": false,
     "input": [
      "KCAL_PER_KG = 7700 # calories per 1kg loss"
     ],
     "language": "python",
     "metadata": {},
     "outputs": []
    },
    {
     "cell_type": "code",
     "collapsed": false,
     "input": [
      "weight=df['Kg'][df.index[-1]] # kg\n",
      "height=(5 + 9.0/12)*0.3048 # m\n",
      "print(\"height=%s\" % height)\n",
      "age = 40\n",
      "\n",
      "# http://www.diabetes.co.uk/bmr-calculator.html\n",
      "activity_mult = 1.375 # light exercise\n",
      "\n",
      "def mifflin(weight, height, age):\n",
      "    #10 x weight (kg) + 6.25 x height (cm) - 5 x age (y) + 5\n",
      "    return 10 * weight + 6.25 * 100 * height - 5 * age + 5\n",
      "\n",
      "bmr = mifflin(weight, height, age)\n",
      "total_calories = bmr * activity_mult\n",
      "print(\"base metabolic rate calories: %s total calories: %s\" % (bmr, total_calories))"
     ],
     "language": "python",
     "metadata": {},
     "outputs": []
    },
    {
     "cell_type": "code",
     "collapsed": false,
     "input": [
      "cal_deficit = KCAL_PER_KG * avg_loss / 1000"
     ],
     "language": "python",
     "metadata": {},
     "outputs": []
    },
    {
     "cell_type": "code",
     "collapsed": false,
     "input": [
      "cals_consumed = total_calories - cal_deficit\n",
      "print(\"est consumed: %.0f cals %.1f%% of req\" % (cals_consumed, 100*cals_consumed/total_calories))"
     ],
     "language": "python",
     "metadata": {},
     "outputs": []
    },
    {
     "cell_type": "code",
     "collapsed": false,
     "input": [
      "bmi = weight / height**2\n",
      "print(\"BMI: %s\" % bmi)"
     ],
     "language": "python",
     "metadata": {},
     "outputs": []
    },
    {
     "cell_type": "code",
     "collapsed": false,
     "input": [],
     "language": "python",
     "metadata": {},
     "outputs": []
    },
    {
     "cell_type": "code",
     "collapsed": false,
     "input": [],
     "language": "python",
     "metadata": {},
     "outputs": []
    },
    {
     "cell_type": "code",
     "collapsed": false,
     "input": [],
     "language": "python",
     "metadata": {},
     "outputs": []
    }
   ],
   "metadata": {}
  }
 ]
}