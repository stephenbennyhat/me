{
 "metadata": {
  "name": "",
  "signature": "sha256:7317065496296f09e291c3bbf251c04ccf5b56183af3e026bc2d789c0632da7e"
 },
 "nbformat": 3,
 "nbformat_minor": 0,
 "worksheets": [
  {
   "cells": [
    {
     "cell_type": "code",
     "collapsed": false,
     "input": [
      "weight = [\n",
      "          [\"01-Jan-2014\",   104.8],\n",
      "          [\"02-Jan-2014\",   105.7],\n",
      "          [\"03-Jan-2014\",   103.4],\n",
      "          [\"04-Jan-2014\",   103.9],\n",
      "          [\"05-Jan-2014\",   103.2],\n",
      "          [\"06-Jan-2014\",   102.6],\n",
      "          [\"07-Jan-2014\",   102.9],\n",
      "          [\"08-Jan-2014\",   102.9],\n",
      "          [\"09-Jan-2014\",   102.5],\n",
      "          [\"10-Jan-2014\",   102.9],\n",
      "          [\"11-Jan-2014\",   102.9],\n",
      "          [\"12-Jan-2014\",   102.5],\n",
      "          [\"13-Jan-2014\",   102.3],\n",
      "          [\"14-Jan-2014\",   102.6],\n",
      "          [\"15-Jan-2014\",   102.4],\n",
      "          [\"16-Jan-2014\",   102.4],\n",
      "          [\"17-Jan-2014\",   101.8],\n",
      "          [\"18-Jan-2014\",   101.3],\n",
      "          [\"19-Jan-2014\",   101.4],\n",
      "          [\"20-Jan-2014\",   101.2],\n",
      "          [\"21-Jan-2014\",   101.0],\n",
      "          [\"22-Jan-2014\",   100.6],\n",
      "          [\"23-Jan-2014\",   100.7],\n",
      "          [\"24-Jan-2014\",   100.3],\n",
      "          [\"25-Jan-2014\",   100.1],\n",
      "          [\"26-Jan-2014\",   100.2],\n",
      "          [\"27-Jan-2014\",   100.5],\n",
      "          [\"28-Jan-2014\",   100.1],\n",
      "          [\"29-Jan-2014\",   99.6],\n",
      "          [\"30-Jan-2014\",   99.4],\n",
      "          [\"31-Jan-2014\",   99.5],\n",
      "          [\"1-Feb-2014\",    99.5],\n",
      "          [\"2-Feb-2014\",    99.6],\n",
      "          [\"3-Feb-2014\",    99.3],\n",
      "          [\"4-Feb-2014\",    98.9],\n",
      "          [\"5-Feb-2014\",    99.4],\n",
      "          [\"6-Feb-2014\",    99.1],\n",
      "          [\"7-Feb-2014\",    98.7],\n",
      "          [\"8-Feb-2014\",    98.6],\n",
      "          [\"9-Feb-2014\",    98.2],\n",
      "          [\"10-Feb-2014\",   98.7],\n",
      "          [\"11-Feb-2014\",   98.2],\n",
      "          [\"12-Feb-2014\",   98.0],\n",
      "          [\"13-Feb-2014\",   97.6],\n",
      "          [\"14-Feb-2014\",   97.6],\n",
      "          [\"15-Feb-2014\",   97.5],\n",
      "          [\"16-Feb-2014\",   97.7],\n",
      "          [\"17-Feb-2014\",   97.7],\n",
      "          [\"18-Feb-2014\",   97.4],\n",
      "          [\"19-Feb-2014\",   97.3],\n",
      "          [\"20-Feb-2014\",   97.1],\n",
      "          [\"21-Feb-2014\",   97.2],\n",
      "          [\"22-Feb-2014\",   97.6],\n",
      "          [\"23-Feb-2014\",   97.6],\n",
      "          [\"24-Feb-2014\",   97.2],\n",
      "          [\"25-Feb-2014\",   96.8],\n",
      "          [\"26-Feb-2014\",   96.5],\n",
      "          [\"27-Feb-2014\",   96.3],\n",
      "          [\"28-Feb-2014\",   96.5],\n",
      "          [\"1-Mar-2014\",    96.1],\n",
      "          [\"2-Mar-2014\",    96.7],\n",
      "          [\"3-Mar-2014\",    96.5],\n",
      "          [\"4-Mar-2014\",    95.9],\n",
      "          [\"5-Mar-2014\",    96.1],\n",
      "          [\"6-Mar-2014\",    96.4],\n",
      "          [\"7-Mar-2014\",    96.2],\n",
      "          [\"8-Mar-2014\",    96.6],\n",
      "          [\"9-Mar-2014\",    95.8],\n",
      "          [\"10-Mar-2014\",   95.7],\n",
      "          [\"11-Mar-2014\",   95.6],\n",
      "          [\"12-Mar-2014\",   95.0],\n",
      "          [\"13-Mar-2014\",   95.3],\n",
      "          [\"14-Mar-2014\",   94.7],\n",
      "          [\"15-Mar-2014\",   95.3],\n",
      "          [\"16-Mar-2014\",   95.1],\n",
      "          [\"17-Mar-2014\",   94.8],\n",
      "          [\"18-Mar-2014\",   94.4],\n",
      "          [\"19-Mar-2014\",   94.2],\n",
      "          [\"20-Mar-2014\",   94.7],\n",
      "          [\"21-Mar-2014\",   94.0],\n",
      "          [\"22-Mar-2014\",   94.6],\n",
      "          [\"23-Mar-2014\",   95.0],\n",
      "          [\"24-Mar-2014\",   95.1],\n",
      "          [\"25-Mar-2014\",   94.9],\n",
      "          [\"26-Mar-2014\",   94.5],\n",
      "          [\"27-Mar-2014\",   93.8],\n",
      "          [\"28-Mar-2014\",   93.7],\n",
      "          [\"29-Mar-2014\",   93.9],\n",
      "          [\"30-Mar-2014\",   93.8],\n",
      "          [\"31-Mar-2014\",   93.9],\n",
      "          [\"1-Apr-2014\",    93.5],\n",
      "          [\"2-Apr-2014\",    93.8],\n",
      "          [\"3-Apr-2014\",    93.9],\n",
      "          [\"4-Apr-2014\",    93.5],\n",
      "          [\"5-Apr-2014\",    93.4],\n",
      "          [\"6-Apr-2014\",    93.1],\n",
      "          [\"7-Apr-2014\",    93.7],\n",
      "          [\"8-Apr-2014\",    93.5],\n",
      "          [\"9-Apr-2014\",    93.2],\n",
      "          [\"10-Apr-2014\",   93.0],\n",
      "          [\"11-Apr-2014\",   93.7],\n",
      "          [\"12-Apr-2014\",   92.8],\n",
      "          [\"13-Apr-2014\",   92.8],\n",
      "          [\"14-Apr-2014\",   92.4],\n",
      "          [\"15-Apr-2014\",   92.0],\n",
      "          [\"16-Apr-2014\",   92.3],\n",
      "          [\"17-Apr-2014\",   92.0],\n",
      "          [\"18-Apr-2014\",   92.2],\n",
      "\n",
      "\n",
      "]"
     ],
     "language": "python",
     "metadata": {},
     "outputs": [],
     "prompt_number": 407
    },
    {
     "cell_type": "code",
     "collapsed": false,
     "input": [
      "%pylab inline"
     ],
     "language": "python",
     "metadata": {},
     "outputs": [
      {
       "output_type": "stream",
       "stream": "stdout",
       "text": [
        "Populating the interactive namespace from numpy and matplotlib\n"
       ]
      }
     ],
     "prompt_number": 408
    },
    {
     "cell_type": "code",
     "collapsed": false,
     "input": [
      "from dateutil import parser\n",
      "import datetime as dt\n",
      "import matplotlib.pyplot as plt\n",
      "import matplotlib.dates as md\n",
      "import numpy as np\n",
      "import pandas as pd"
     ],
     "language": "python",
     "metadata": {},
     "outputs": [],
     "prompt_number": 409
    },
    {
     "cell_type": "code",
     "collapsed": false,
     "input": [
      "rcParams['figure.figsize'] = 15, 10"
     ],
     "language": "python",
     "metadata": {},
     "outputs": [],
     "prompt_number": 410
    },
    {
     "cell_type": "code",
     "collapsed": false,
     "input": [
      "KG_TO_LB = 2.20462\n",
      "\n",
      "def st_lb(kg):\n",
      "    j = kg * KG_TO_LB\n",
      "    return (int(j/14), int(j % 14))\n",
      "\n",
      "def st_lb_str(kg):\n",
      "    return \"%sst %slb\" % st_lb(kg)"
     ],
     "language": "python",
     "metadata": {},
     "outputs": [],
     "prompt_number": 411
    },
    {
     "cell_type": "code",
     "collapsed": false,
     "input": [
      "df = pd.DataFrame(weight, columns = [\"DateString\", \"Kg\"])"
     ],
     "language": "python",
     "metadata": {},
     "outputs": [],
     "prompt_number": 412
    },
    {
     "cell_type": "code",
     "collapsed": false,
     "input": [
      "initial = df['Kg'][0]\n",
      "delta = (2 * 14 / KG_TO_LB)\n",
      "target = initial - delta\n",
      "print(\"target weight=%fkg (%s) loss=%fkg\" % (target, st_lb_str(target), delta))"
     ],
     "language": "python",
     "metadata": {},
     "outputs": [
      {
       "output_type": "stream",
       "stream": "stdout",
       "text": [
        "target weight=92.099399kg (14st 7lb) loss=12.700601kg\n"
       ]
      }
     ],
     "prompt_number": 413
    },
    {
     "cell_type": "code",
     "collapsed": false,
     "input": [
      "# \"overweight\" is BMI<30!\n",
      "woverweight = 30*height**2\n",
      "print \"to be just overweight: %sKg: %s\" % (woverweight, st_lb_str(woverweight))"
     ],
     "language": "python",
     "metadata": {},
     "outputs": [
      {
       "output_type": "stream",
       "stream": "stdout",
       "text": [
        "to be just overweight: 92.1482028Kg: 14st 7lb\n"
       ]
      }
     ],
     "prompt_number": 414
    },
    {
     "cell_type": "code",
     "collapsed": false,
     "input": [
      "wnormal = 25*height**2\n",
      "print \"to be a normal weight: %sKg: %s\" % (wnormal, st_lb_str(wnormal))"
     ],
     "language": "python",
     "metadata": {},
     "outputs": [
      {
       "output_type": "stream",
       "stream": "stdout",
       "text": [
        "to be a normal weight: 76.790169Kg: 12st 1lb\n"
       ]
      }
     ],
     "prompt_number": 415
    },
    {
     "cell_type": "code",
     "collapsed": false,
     "input": [
      "df['Date'] = pd.to_datetime(df['DateString'])\n",
      "df['DateNum'] = md.date2num(df['Date'])\n",
      "df['St'] = df['Kg'].apply(lambda x: st_lb(x)[0])\n",
      "df['Lb'] = df['Kg'].apply(lambda x: st_lb(x)[1])\n",
      "df['Target'] = target\n",
      "df['Loss'] = initial - df['Kg']\n",
      "df['LossLb'] = df['Loss']*KG_TO_LB\n",
      "df['Completed%'] = 100 * df['Loss'] / delta\n",
      "df['Overweight'] = woverweight\n",
      "df['Normal'] = wnormal"
     ],
     "language": "python",
     "metadata": {},
     "outputs": [],
     "prompt_number": 416
    },
    {
     "cell_type": "markdown",
     "metadata": {},
     "source": [
      "Filter the raw measurements."
     ]
    },
    {
     "cell_type": "code",
     "collapsed": false,
     "input": [
      "df['Filtered'] = pd.rolling_mean(df['Kg'], 7)\n",
      "#df['Filtered'] = pd.ewma(df['Kg'], span=10)"
     ],
     "language": "python",
     "metadata": {},
     "outputs": [],
     "prompt_number": 417
    },
    {
     "cell_type": "markdown",
     "metadata": {},
     "source": [
      "Fit a linear curve to the raw data for the last few (NRECENT) measurements."
     ]
    },
    {
     "cell_type": "code",
     "collapsed": false,
     "input": [
      "from scipy.optimize import curve_fit\n",
      "\n",
      "NRECENT=21\n",
      "\n",
      "recent = df[-NRECENT:]\n",
      "xs = md.date2num(recent['Date'])\n",
      "ys = recent['Kg']\n",
      "\n",
      "def linear(x, a, b):\n",
      "    return a*x + b\n",
      "\n",
      "fitparams, fitcovariances = curve_fit(linear, xs, ys)\n",
      "\n",
      "#TODO: constrain to go through last measurement?\n",
      "def fit(x):\n",
      "    return linear(x, fitparams[0], fitparams[1])\n",
      "\n",
      "dwdt = fitparams[0]*1000 # g/day\n",
      "\n",
      "print(\"current dw/dt=%s\" % dwdt)\n",
      "\n",
      "# weight = date * p[0] + p[1]\n",
      "# => date = (weight - p[1]) / p[0]\n",
      "def fitdate(x):\n",
      "    return (x - fitparams[1]) / fitparams[0]\n",
      "\n",
      "# where do we hit the target?\n",
      "target_date=num2date(fitdate(target))"
     ],
     "language": "python",
     "metadata": {},
     "outputs": [
      {
       "output_type": "stream",
       "stream": "stdout",
       "text": [
        "current dw/dt=-94.8051948032\n"
       ]
      }
     ],
     "prompt_number": 418
    },
    {
     "cell_type": "markdown",
     "metadata": {},
     "source": [
      "Add a column of the fitted data."
     ]
    },
    {
     "cell_type": "code",
     "collapsed": false,
     "input": [
      "df['Fit'] = fit(df['DateNum'][-NRECENT:])\n",
      "recent = df[-NRECENT:]"
     ],
     "language": "python",
     "metadata": {},
     "outputs": [],
     "prompt_number": 419
    },
    {
     "cell_type": "code",
     "collapsed": false,
     "input": [
      "df.tail(15)"
     ],
     "language": "python",
     "metadata": {},
     "outputs": [
      {
       "html": [
        "<div style=\"max-height:1000px;max-width:1500px;overflow:auto;\">\n",
        "<table border=\"1\" class=\"dataframe\">\n",
        "  <thead>\n",
        "    <tr style=\"text-align: right;\">\n",
        "      <th></th>\n",
        "      <th>DateString</th>\n",
        "      <th>Kg</th>\n",
        "      <th>Date</th>\n",
        "      <th>DateNum</th>\n",
        "      <th>St</th>\n",
        "      <th>Lb</th>\n",
        "      <th>Target</th>\n",
        "      <th>Loss</th>\n",
        "      <th>LossLb</th>\n",
        "      <th>Completed%</th>\n",
        "      <th>Overweight</th>\n",
        "      <th>Normal</th>\n",
        "      <th>Filtered</th>\n",
        "      <th>Fit</th>\n",
        "    </tr>\n",
        "  </thead>\n",
        "  <tbody>\n",
        "    <tr>\n",
        "      <th>93 </th>\n",
        "      <td>  4-Apr-2014</td>\n",
        "      <td> 93.5</td>\n",
        "      <td>2014-04-04 00:00:00</td>\n",
        "      <td> 735327</td>\n",
        "      <td> 14</td>\n",
        "      <td> 10</td>\n",
        "      <td> 92.099399</td>\n",
        "      <td> 11.3</td>\n",
        "      <td> 24.912206</td>\n",
        "      <td>  88.972164</td>\n",
        "      <td> 92.148203</td>\n",
        "      <td> 76.790169</td>\n",
        "      <td> 93.757143</td>\n",
        "      <td> 93.541124</td>\n",
        "    </tr>\n",
        "    <tr>\n",
        "      <th>94 </th>\n",
        "      <td>  5-Apr-2014</td>\n",
        "      <td> 93.4</td>\n",
        "      <td>2014-04-05 00:00:00</td>\n",
        "      <td> 735328</td>\n",
        "      <td> 14</td>\n",
        "      <td>  9</td>\n",
        "      <td> 92.099399</td>\n",
        "      <td> 11.4</td>\n",
        "      <td> 25.132668</td>\n",
        "      <td>  89.759529</td>\n",
        "      <td> 92.148203</td>\n",
        "      <td> 76.790169</td>\n",
        "      <td> 93.685714</td>\n",
        "      <td> 93.446319</td>\n",
        "    </tr>\n",
        "    <tr>\n",
        "      <th>95 </th>\n",
        "      <td>  6-Apr-2014</td>\n",
        "      <td> 93.1</td>\n",
        "      <td>2014-04-06 00:00:00</td>\n",
        "      <td> 735329</td>\n",
        "      <td> 14</td>\n",
        "      <td>  9</td>\n",
        "      <td> 92.099399</td>\n",
        "      <td> 11.7</td>\n",
        "      <td> 25.794054</td>\n",
        "      <td>  92.121621</td>\n",
        "      <td> 92.148203</td>\n",
        "      <td> 76.790169</td>\n",
        "      <td> 93.585714</td>\n",
        "      <td> 93.351514</td>\n",
        "    </tr>\n",
        "    <tr>\n",
        "      <th>96 </th>\n",
        "      <td>  7-Apr-2014</td>\n",
        "      <td> 93.7</td>\n",
        "      <td>2014-04-07 00:00:00</td>\n",
        "      <td> 735330</td>\n",
        "      <td> 14</td>\n",
        "      <td> 10</td>\n",
        "      <td> 92.099399</td>\n",
        "      <td> 11.1</td>\n",
        "      <td> 24.471282</td>\n",
        "      <td>  87.397436</td>\n",
        "      <td> 92.148203</td>\n",
        "      <td> 76.790169</td>\n",
        "      <td> 93.557143</td>\n",
        "      <td> 93.256708</td>\n",
        "    </tr>\n",
        "    <tr>\n",
        "      <th>97 </th>\n",
        "      <td>  8-Apr-2014</td>\n",
        "      <td> 93.5</td>\n",
        "      <td>2014-04-08 00:00:00</td>\n",
        "      <td> 735331</td>\n",
        "      <td> 14</td>\n",
        "      <td> 10</td>\n",
        "      <td> 92.099399</td>\n",
        "      <td> 11.3</td>\n",
        "      <td> 24.912206</td>\n",
        "      <td>  88.972164</td>\n",
        "      <td> 92.148203</td>\n",
        "      <td> 76.790169</td>\n",
        "      <td> 93.557143</td>\n",
        "      <td> 93.161903</td>\n",
        "    </tr>\n",
        "    <tr>\n",
        "      <th>98 </th>\n",
        "      <td>  9-Apr-2014</td>\n",
        "      <td> 93.2</td>\n",
        "      <td>2014-04-09 00:00:00</td>\n",
        "      <td> 735332</td>\n",
        "      <td> 14</td>\n",
        "      <td>  9</td>\n",
        "      <td> 92.099399</td>\n",
        "      <td> 11.6</td>\n",
        "      <td> 25.573592</td>\n",
        "      <td>  91.334257</td>\n",
        "      <td> 92.148203</td>\n",
        "      <td> 76.790169</td>\n",
        "      <td> 93.471429</td>\n",
        "      <td> 93.067098</td>\n",
        "    </tr>\n",
        "    <tr>\n",
        "      <th>99 </th>\n",
        "      <td> 10-Apr-2014</td>\n",
        "      <td> 93.0</td>\n",
        "      <td>2014-04-10 00:00:00</td>\n",
        "      <td> 735333</td>\n",
        "      <td> 14</td>\n",
        "      <td>  9</td>\n",
        "      <td> 92.099399</td>\n",
        "      <td> 11.8</td>\n",
        "      <td> 26.014516</td>\n",
        "      <td>  92.908986</td>\n",
        "      <td> 92.148203</td>\n",
        "      <td> 76.790169</td>\n",
        "      <td> 93.342857</td>\n",
        "      <td> 92.972293</td>\n",
        "    </tr>\n",
        "    <tr>\n",
        "      <th>100</th>\n",
        "      <td> 11-Apr-2014</td>\n",
        "      <td> 93.7</td>\n",
        "      <td>2014-04-11 00:00:00</td>\n",
        "      <td> 735334</td>\n",
        "      <td> 14</td>\n",
        "      <td> 10</td>\n",
        "      <td> 92.099399</td>\n",
        "      <td> 11.1</td>\n",
        "      <td> 24.471282</td>\n",
        "      <td>  87.397436</td>\n",
        "      <td> 92.148203</td>\n",
        "      <td> 76.790169</td>\n",
        "      <td> 93.371429</td>\n",
        "      <td> 92.877488</td>\n",
        "    </tr>\n",
        "    <tr>\n",
        "      <th>101</th>\n",
        "      <td> 12-Apr-2014</td>\n",
        "      <td> 92.8</td>\n",
        "      <td>2014-04-12 00:00:00</td>\n",
        "      <td> 735335</td>\n",
        "      <td> 14</td>\n",
        "      <td>  8</td>\n",
        "      <td> 92.099399</td>\n",
        "      <td> 12.0</td>\n",
        "      <td> 26.455440</td>\n",
        "      <td>  94.483714</td>\n",
        "      <td> 92.148203</td>\n",
        "      <td> 76.790169</td>\n",
        "      <td> 93.285714</td>\n",
        "      <td> 92.782682</td>\n",
        "    </tr>\n",
        "    <tr>\n",
        "      <th>102</th>\n",
        "      <td> 13-Apr-2014</td>\n",
        "      <td> 92.8</td>\n",
        "      <td>2014-04-13 00:00:00</td>\n",
        "      <td> 735336</td>\n",
        "      <td> 14</td>\n",
        "      <td>  8</td>\n",
        "      <td> 92.099399</td>\n",
        "      <td> 12.0</td>\n",
        "      <td> 26.455440</td>\n",
        "      <td>  94.483714</td>\n",
        "      <td> 92.148203</td>\n",
        "      <td> 76.790169</td>\n",
        "      <td> 93.242857</td>\n",
        "      <td> 92.687877</td>\n",
        "    </tr>\n",
        "    <tr>\n",
        "      <th>103</th>\n",
        "      <td> 14-Apr-2014</td>\n",
        "      <td> 92.4</td>\n",
        "      <td>2014-04-14 00:00:00</td>\n",
        "      <td> 735337</td>\n",
        "      <td> 14</td>\n",
        "      <td>  7</td>\n",
        "      <td> 92.099399</td>\n",
        "      <td> 12.4</td>\n",
        "      <td> 27.337288</td>\n",
        "      <td>  97.633171</td>\n",
        "      <td> 92.148203</td>\n",
        "      <td> 76.790169</td>\n",
        "      <td> 93.057143</td>\n",
        "      <td> 92.593072</td>\n",
        "    </tr>\n",
        "    <tr>\n",
        "      <th>104</th>\n",
        "      <td> 15-Apr-2014</td>\n",
        "      <td> 92.0</td>\n",
        "      <td>2014-04-15 00:00:00</td>\n",
        "      <td> 735338</td>\n",
        "      <td> 14</td>\n",
        "      <td>  6</td>\n",
        "      <td> 92.099399</td>\n",
        "      <td> 12.8</td>\n",
        "      <td> 28.219136</td>\n",
        "      <td> 100.782629</td>\n",
        "      <td> 92.148203</td>\n",
        "      <td> 76.790169</td>\n",
        "      <td> 92.842857</td>\n",
        "      <td> 92.498267</td>\n",
        "    </tr>\n",
        "    <tr>\n",
        "      <th>105</th>\n",
        "      <td> 16-Apr-2014</td>\n",
        "      <td> 92.3</td>\n",
        "      <td>2014-04-16 00:00:00</td>\n",
        "      <td> 735339</td>\n",
        "      <td> 14</td>\n",
        "      <td>  7</td>\n",
        "      <td> 92.099399</td>\n",
        "      <td> 12.5</td>\n",
        "      <td> 27.557750</td>\n",
        "      <td>  98.420536</td>\n",
        "      <td> 92.148203</td>\n",
        "      <td> 76.790169</td>\n",
        "      <td> 92.714286</td>\n",
        "      <td> 92.403462</td>\n",
        "    </tr>\n",
        "    <tr>\n",
        "      <th>106</th>\n",
        "      <td> 17-Apr-2014</td>\n",
        "      <td> 92.0</td>\n",
        "      <td>2014-04-17 00:00:00</td>\n",
        "      <td> 735340</td>\n",
        "      <td> 14</td>\n",
        "      <td>  6</td>\n",
        "      <td> 92.099399</td>\n",
        "      <td> 12.8</td>\n",
        "      <td> 28.219136</td>\n",
        "      <td> 100.782629</td>\n",
        "      <td> 92.148203</td>\n",
        "      <td> 76.790169</td>\n",
        "      <td> 92.571429</td>\n",
        "      <td> 92.308656</td>\n",
        "    </tr>\n",
        "    <tr>\n",
        "      <th>107</th>\n",
        "      <td> 18-Apr-2014</td>\n",
        "      <td> 92.2</td>\n",
        "      <td>2014-04-18 00:00:00</td>\n",
        "      <td> 735341</td>\n",
        "      <td> 14</td>\n",
        "      <td>  7</td>\n",
        "      <td> 92.099399</td>\n",
        "      <td> 12.6</td>\n",
        "      <td> 27.778212</td>\n",
        "      <td>  99.207900</td>\n",
        "      <td> 92.148203</td>\n",
        "      <td> 76.790169</td>\n",
        "      <td> 92.357143</td>\n",
        "      <td> 92.213851</td>\n",
        "    </tr>\n",
        "  </tbody>\n",
        "</table>\n",
        "</div>"
       ],
       "metadata": {},
       "output_type": "pyout",
       "prompt_number": 420,
       "text": [
        "      DateString    Kg                Date  DateNum  St  Lb     Target  Loss  \\\n",
        "93    4-Apr-2014  93.5 2014-04-04 00:00:00   735327  14  10  92.099399  11.3   \n",
        "94    5-Apr-2014  93.4 2014-04-05 00:00:00   735328  14   9  92.099399  11.4   \n",
        "95    6-Apr-2014  93.1 2014-04-06 00:00:00   735329  14   9  92.099399  11.7   \n",
        "96    7-Apr-2014  93.7 2014-04-07 00:00:00   735330  14  10  92.099399  11.1   \n",
        "97    8-Apr-2014  93.5 2014-04-08 00:00:00   735331  14  10  92.099399  11.3   \n",
        "98    9-Apr-2014  93.2 2014-04-09 00:00:00   735332  14   9  92.099399  11.6   \n",
        "99   10-Apr-2014  93.0 2014-04-10 00:00:00   735333  14   9  92.099399  11.8   \n",
        "100  11-Apr-2014  93.7 2014-04-11 00:00:00   735334  14  10  92.099399  11.1   \n",
        "101  12-Apr-2014  92.8 2014-04-12 00:00:00   735335  14   8  92.099399  12.0   \n",
        "102  13-Apr-2014  92.8 2014-04-13 00:00:00   735336  14   8  92.099399  12.0   \n",
        "103  14-Apr-2014  92.4 2014-04-14 00:00:00   735337  14   7  92.099399  12.4   \n",
        "104  15-Apr-2014  92.0 2014-04-15 00:00:00   735338  14   6  92.099399  12.8   \n",
        "105  16-Apr-2014  92.3 2014-04-16 00:00:00   735339  14   7  92.099399  12.5   \n",
        "106  17-Apr-2014  92.0 2014-04-17 00:00:00   735340  14   6  92.099399  12.8   \n",
        "107  18-Apr-2014  92.2 2014-04-18 00:00:00   735341  14   7  92.099399  12.6   \n",
        "\n",
        "        LossLb  Completed%  Overweight     Normal   Filtered        Fit  \n",
        "93   24.912206   88.972164   92.148203  76.790169  93.757143  93.541124  \n",
        "94   25.132668   89.759529   92.148203  76.790169  93.685714  93.446319  \n",
        "95   25.794054   92.121621   92.148203  76.790169  93.585714  93.351514  \n",
        "96   24.471282   87.397436   92.148203  76.790169  93.557143  93.256708  \n",
        "97   24.912206   88.972164   92.148203  76.790169  93.557143  93.161903  \n",
        "98   25.573592   91.334257   92.148203  76.790169  93.471429  93.067098  \n",
        "99   26.014516   92.908986   92.148203  76.790169  93.342857  92.972293  \n",
        "100  24.471282   87.397436   92.148203  76.790169  93.371429  92.877488  \n",
        "101  26.455440   94.483714   92.148203  76.790169  93.285714  92.782682  \n",
        "102  26.455440   94.483714   92.148203  76.790169  93.242857  92.687877  \n",
        "103  27.337288   97.633171   92.148203  76.790169  93.057143  92.593072  \n",
        "104  28.219136  100.782629   92.148203  76.790169  92.842857  92.498267  \n",
        "105  27.557750   98.420536   92.148203  76.790169  92.714286  92.403462  \n",
        "106  28.219136  100.782629   92.148203  76.790169  92.571429  92.308656  \n",
        "107  27.778212   99.207900   92.148203  76.790169  92.357143  92.213851  "
       ]
      }
     ],
     "prompt_number": 420
    },
    {
     "cell_type": "heading",
     "level": 2,
     "metadata": {},
     "source": [
      "Weight Change Graph"
     ]
    },
    {
     "cell_type": "code",
     "collapsed": false,
     "input": [
      "fig,ax = plt.subplots()\n",
      "ax.plot_date(df['Date'], df['Kg'], linestyle='--', label='Raw Kg')\n",
      "ax.plot_date(df['Date'], df['Filtered'], color='red', linestyle='-', label='Filtered')\n",
      "ax.plot_date(df['Date'], df['Fit'], color='green', linestyle='--',label='Linear Fit')\n",
      "if True:\n",
      "    ax.plot_date(df['Date'], df['Target'], color='black', linestyle='-', marker='', label='Target')\n",
      "    ax.plot_date(df['Date'], df['Overweight'], color='red', linestyle='-', marker='', label='Overweight')\n",
      "    #ax.plot_date(df['Date'], df['Normal'], color='orange', linestyle='-', marker='', label='Normal')\n",
      "\n",
      "\n",
      "fig.autofmt_xdate()\n",
      "ax.annotate('Hit target at %s' % target_date.strftime('%d-%b-%Y'), xy=(735238,105))\n",
      "plt.legend()\n",
      "plt.show()"
     ],
     "language": "python",
     "metadata": {},
     "outputs": [
      {
       "metadata": {},
       "output_type": "display_data",
       "png": "[encoded data removed]",
       "text": [
        "<matplotlib.figure.Figure at 0x107e13f10>"
       ]
      }
     ],
     "prompt_number": 421
    },
    {
     "cell_type": "heading",
     "level": 2,
     "metadata": {},
     "source": [
      "Daily changes in weight"
     ]
    },
    {
     "cell_type": "code",
     "collapsed": false,
     "input": [
      "deltakg = df['Kg'] - df['Kg'].shift()\n",
      "\n",
      "plt.figure()\n",
      "deltakg.hist(figsize=(6,3), color='lightblue', bins=15)\n",
      "plt.show()"
     ],
     "language": "python",
     "metadata": {},
     "outputs": [
      {
       "metadata": {},
       "output_type": "display_data",
       "png": "[encoded data removed]",
       "text": [
        "<matplotlib.figure.Figure at 0x10870da50>"
       ]
      }
     ],
     "prompt_number": 422
    },
    {
     "cell_type": "markdown",
     "metadata": {},
     "source": [
      "Average loss per day (kg)"
     ]
    },
    {
     "cell_type": "code",
     "collapsed": false,
     "input": [
      "deltakgfilt = pd.rolling_mean(deltakg, 14) # fortnight\n",
      "\n",
      "fig,ax = plt.subplots()\n",
      "#ax.plot_date(df['Date'], deltakg, linestyle='--', label='Raw DeltaKg')\n",
      "ax.plot_date(df['Date'], deltakgfilt, color='red', linestyle='-', label='Filt DeltaKg')\n",
      "plt.show()\n"
     ],
     "language": "python",
     "metadata": {},
     "outputs": [
      {
       "metadata": {},
       "output_type": "display_data",
       "png": "[encoded data removed]",
       "text": [
        "<matplotlib.figure.Figure at 0x107e617d0>"
       ]
      }
     ],
     "prompt_number": 423
    },
    {
     "cell_type": "code",
     "collapsed": false,
     "input": [
      "avg_loss = -deltakg.mean() * 1000\n",
      "print(\"avg weight loss %sg/day recent %sg/day\" % (avg_loss, -dwdt))"
     ],
     "language": "python",
     "metadata": {},
     "outputs": [
      {
       "output_type": "stream",
       "stream": "stdout",
       "text": [
        "avg weight loss 117.757009346g/day recent 94.8051948032g/day\n"
       ]
      }
     ],
     "prompt_number": 424
    },
    {
     "cell_type": "code",
     "collapsed": false,
     "input": [
      "KCAL_PER_KG = 7700 # calories per 1kg loss"
     ],
     "language": "python",
     "metadata": {},
     "outputs": [],
     "prompt_number": 425
    },
    {
     "cell_type": "code",
     "collapsed": false,
     "input": [
      "weight=df['Kg'][df.index[-1]] # kg\n",
      "height=(5 + 9.0/12)*0.3048 # m\n",
      "print(\"height=%s\" % height)\n",
      "age = 40\n",
      "\n",
      "# http://www.diabetes.co.uk/bmr-calculator.html\n",
      "activity_mult = 1.375 # light exercise\n",
      "\n",
      "def mifflin(weight, height, age):\n",
      "    #10 x weight (kg) + 6.25 x height (cm) - 5 x age (y) + 5\n",
      "    return 10 * weight + 6.25 * 100 * height - 5 * age + 5\n",
      "\n",
      "bmr = mifflin(weight, height, age)\n",
      "total_calories = bmr * activity_mult\n",
      "print(\"base metabolic rate calories: %s total calories: %s\" % (bmr, total_calories))"
     ],
     "language": "python",
     "metadata": {},
     "outputs": [
      {
       "output_type": "stream",
       "stream": "stdout",
       "text": [
        "height=1.7526\n",
        "base metabolic rate calories: 1822.375 total calories: 2505.765625\n"
       ]
      }
     ],
     "prompt_number": 426
    },
    {
     "cell_type": "code",
     "collapsed": false,
     "input": [
      "cal_deficit = KCAL_PER_KG * avg_loss / 1000"
     ],
     "language": "python",
     "metadata": {},
     "outputs": [],
     "prompt_number": 427
    },
    {
     "cell_type": "code",
     "collapsed": false,
     "input": [
      "cals_consumed = total_calories - cal_deficit\n",
      "print(\"est consumed: %.0f cals %.1f%% of req\" % (cals_consumed, 100*cals_consumed/total_calories))"
     ],
     "language": "python",
     "metadata": {},
     "outputs": [
      {
       "output_type": "stream",
       "stream": "stdout",
       "text": [
        "est consumed: 1599 cals 63.8% of req\n"
       ]
      }
     ],
     "prompt_number": 428
    },
    {
     "cell_type": "code",
     "collapsed": false,
     "input": [
      "bmi = weight / height**2\n",
      "print(\"BMI: %s\" % bmi)"
     ],
     "language": "python",
     "metadata": {},
     "outputs": [
      {
       "output_type": "stream",
       "stream": "stdout",
       "text": [
        "BMI: 30.0168632263\n"
       ]
      }
     ],
     "prompt_number": 429
    },
    {
     "cell_type": "code",
     "collapsed": false,
     "input": [],
     "language": "python",
     "metadata": {},
     "outputs": [],
     "prompt_number": 429
    },
    {
     "cell_type": "code",
     "collapsed": false,
     "input": [],
     "language": "python",
     "metadata": {},
     "outputs": [],
     "prompt_number": 429
    },
    {
     "cell_type": "code",
     "collapsed": false,
     "input": [],
     "language": "python",
     "metadata": {},
     "outputs": [],
     "prompt_number": 429
    }
   ],
   "metadata": {}
  }
 ]
}