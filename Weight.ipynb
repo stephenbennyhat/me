{
 "metadata": {
  "name": ""
 },
 "nbformat": 3,
 "nbformat_minor": 0,
 "worksheets": [
  {
   "cells": [
    {
     "cell_type": "code",
     "collapsed": false,
     "input": [
      "weight = [\n",
      "          [\"01-Jan-2014\",\t104.8],\n",
      "          [\"02-Jan-2014\",\t105.7],\n",
      "          [\"03-Jan-2014\",\t103.4],\n",
      "          [\"04-Jan-2014\",\t103.9],\n",
      "          [\"05-Jan-2014\",\t103.2],\n",
      "          [\"06-Jan-2014\",\t102.6],\n",
      "          [\"07-Jan-2014\",\t102.9],\n",
      "          [\"08-Jan-2014\",\t102.9],\n",
      "          [\"09-Jan-2014\",\t102.5],\n",
      "          [\"10-Jan-2014\",\t102.9],\n",
      "          [\"11-Jan-2014\",\t102.9],\n",
      "          [\"12-Jan-2014\",\t102.5],\n",
      "          [\"13-Jan-2014\",\t102.3],\n",
      "          [\"14-Jan-2014\",\t102.6],\n",
      "          [\"15-Jan-2014\",\t102.4],\n",
      "          [\"16-Jan-2014\",\t102.4],\n",
      "          [\"17-Jan-2014\",\t101.8],\n",
      "          [\"18-Jan-2014\",\t101.3],\n",
      "          [\"19-Jan-2014\",   101.4],\n",
      "          [\"20-Jan-2014\",   101.2],\n",
      "          [\"21-Jan-2014\",   101.0],\n",
      "          [\"22-Jan-2014\",   100.6],\n",
      "          [\"23-Jan-2014\",   100.7],\n",
      "          [\"24-Jan-2014\",   100.3],\n",
      "          [\"25-Jan-2014\",   100.1],\n",
      "          [\"26-Jan-2014\",   100.2],\n",
      "          [\"27-Jan-2014\",   100.5],\n",
      "          [\"28-Jan-2014\",   100.1],\n",
      "          [\"29-Jan-2014\",   99.6],\n",
      "          [\"30-Jan-2014\",   99.4],\n",
      "          [\"31-Jan-2014\",   99.5],\n",
      "          [\"1-Feb-2014\",    99.5],\n",
      "          [\"2-Feb-2014\",    99.6],\n",
      "          [\"3-Feb-2014\",    99.3],\n",
      "          [\"4-Feb-2014\",    98.9],\n",
      "          [\"5-Feb-2014\",    99.4],\n",
      "          [\"6-Feb-2014\",    99.1],\n",
      "          [\"7-Feb-2014\",    98.7],\n",
      "          [\"8-Feb-2014\",    98.6],\n",
      "          [\"9-Feb-2014\",    98.2],\n",
      "          [\"10-Feb-2014\",   98.7],\n",
      "          [\"11-Feb-2014\",   98.2],\n",
      "          [\"12-Feb-2014\",   98.0],\n",
      "          [\"13-Feb-2014\",   97.6],\n",
      "          [\"14-Feb-2014\",   97.6],\n",
      "          [\"15-Feb-2014\",   97.5],\n",
      "          [\"16-Feb-2014\",   97.7],\n",
      "          [\"17-Feb-2014\",   97.7],\n",
      "          [\"18-Feb-2014\",   97.4],\n",
      "          [\"19-Feb-2014\",   97.3],\n",
      "          [\"20-Feb-2014\",   97.1],\n",
      "          [\"21-Feb-2014\",   97.2],\n",
      "          [\"22-Feb-2014\",   97.6],\n",
      "          [\"23-Feb-2014\",   97.6],\n",
      "          [\"24-Feb-2014\",   97.2],\n",
      "          [\"25-Feb-2014\",   96.8],\n",
      "          [\"26-Feb-2014\",   96.5],\n",
      "          [\"27-Feb-2014\",   96.3],\n",
      "          [\"28-Feb-2014\",   96.5],\n",
      "          [\"1-Mar-2014\",    96.1],\n",
      "          [\"2-Mar-2014\",    96.7],\n",
      "          [\"3-Mar-2014\",    96.5],\n",
      "          [\"4-Mar-2014\",    95.9],\n",
      "          [\"5-Mar-2014\",    96.1],\n",
      "          [\"6-Mar-2014\",    96.4],\n",
      "          [\"7-Mar-2014\",    96.2],\n",
      "          [\"8-Mar-2014\",    96.6],\n",
      "          [\"9-Mar-2014\",    95.8],\n",
      "          [\"10-Mar-2014\",   95.7],\n",
      "          [\"11-Mar-2014\",   95.6],\n",
      "          [\"12-Mar-2014\",   95.0],\n",
      "          [\"13-Mar-2014\",   95.3],\n",
      "          [\"14-Mar-2014\",   94.7],\n",
      "          [\"15-Mar-2014\",   95.3],\n",
      "          [\"16-Mar-2014\",   95.1],\n",
      "          [\"17-Mar-2014\",   94.8],\n",
      "          [\"18-Mar-2014\",   94.4],\n",
      "          [\"19-Mar-2014\",   94.2],\n",
      "\n",
      "          ]"
     ],
     "language": "python",
     "metadata": {},
     "outputs": [],
     "prompt_number": 47
    },
    {
     "cell_type": "code",
     "collapsed": false,
     "input": [
      "%pylab inline"
     ],
     "language": "python",
     "metadata": {},
     "outputs": [
      {
       "output_type": "stream",
       "stream": "stdout",
       "text": [
        "Populating the interactive namespace from numpy and matplotlib\n"
       ]
      }
     ],
     "prompt_number": 48
    },
    {
     "cell_type": "code",
     "collapsed": false,
     "input": [
      "from dateutil import parser\n",
      "import datetime as dt\n",
      "import matplotlib.pyplot as plt\n",
      "import matplotlib.dates as md\n",
      "import numpy as np\n",
      "import pandas as pd"
     ],
     "language": "python",
     "metadata": {},
     "outputs": [],
     "prompt_number": 49
    },
    {
     "cell_type": "code",
     "collapsed": false,
     "input": [
      "rcParams['figure.figsize'] = 15, 10"
     ],
     "language": "python",
     "metadata": {},
     "outputs": [],
     "prompt_number": 50
    },
    {
     "cell_type": "code",
     "collapsed": false,
     "input": [
      "KG_TO_LB = 2.20462\n",
      "\n",
      "def st_lb(kg):\n",
      "    j = kg * KG_TO_LB\n",
      "    return (int(j/14), int(j % 14))\n",
      "\n",
      "def st_lb_str(kg):\n",
      "    return \"%sst %slb\" % st_lb(kg)"
     ],
     "language": "python",
     "metadata": {},
     "outputs": [],
     "prompt_number": 51
    },
    {
     "cell_type": "code",
     "collapsed": false,
     "input": [
      "df = pd.DataFrame(weight, columns = [\"DateString\", \"Kg\"])"
     ],
     "language": "python",
     "metadata": {},
     "outputs": [],
     "prompt_number": 52
    },
    {
     "cell_type": "code",
     "collapsed": false,
     "input": [
      "initial = df['Kg'][0]\n",
      "delta = (2 * 14 / KG_TO_LB)\n",
      "target = initial - delta\n",
      "print(\"target weight=%fkg (%s) loss=%fkg\" % (target, st_lb_str(target), delta))"
     ],
     "language": "python",
     "metadata": {},
     "outputs": [
      {
       "output_type": "stream",
       "stream": "stdout",
       "text": [
        "target weight=92.099399kg (14st 7lb) loss=12.700601kg\n"
       ]
      }
     ],
     "prompt_number": 53
    },
    {
     "cell_type": "code",
     "collapsed": false,
     "input": [
      "df['Date'] = pd.to_datetime(df['DateString'])\n",
      "df['DateNum'] = md.date2num(df['Date'])\n",
      "df['St'] = df['Kg'].apply(lambda x: st_lb(x)[0])\n",
      "df['Lb'] = df['Kg'].apply(lambda x: st_lb(x)[1])\n",
      "df['Target'] = target\n",
      "df['Loss'] = initial - df['Kg']\n",
      "df['LossLb'] = df['Loss']*KG_TO_LB\n",
      "df['Completed%'] = 100 * df['Loss'] / delta"
     ],
     "language": "python",
     "metadata": {},
     "outputs": [],
     "prompt_number": 54
    },
    {
     "cell_type": "markdown",
     "metadata": {},
     "source": [
      "Filter the raw measurements."
     ]
    },
    {
     "cell_type": "code",
     "collapsed": false,
     "input": [
      "df['Filtered'] = pd.rolling_mean(df['Kg'], 7)\n",
      "#df['Filtered'] = pd.ewma(df['Kg'], span=10)"
     ],
     "language": "python",
     "metadata": {},
     "outputs": [],
     "prompt_number": 55
    },
    {
     "cell_type": "markdown",
     "metadata": {},
     "source": [
      "Fit a linear curve to the raw data for the last few (NRECENT) measurements."
     ]
    },
    {
     "cell_type": "code",
     "collapsed": false,
     "input": [
      "from scipy.optimize import curve_fit\n",
      "\n",
      "NRECENT=21\n",
      "\n",
      "recent = df[-NRECENT:]\n",
      "xs = md.date2num(recent['Date'])\n",
      "ys = recent['Kg']\n",
      "\n",
      "def linear(x, a, b):\n",
      "    return a*x + b\n",
      "\n",
      "fitparams, fitcovariances = curve_fit(linear, xs, ys)\n",
      "\n",
      "#TODO: constrain to go through last measurement?\n",
      "def fit(x):\n",
      "    return linear(x, fitparams[0], fitparams[1])\n",
      "\n",
      "# weight = date * p[0] + p[1]\n",
      "# => date = (weight - p[1]) / p[0]\n",
      "def fitdate(x):\n",
      "    return (x - fitparams[1]) / fitparams[0]\n",
      "\n",
      "# where do we hit the target?\n",
      "target_date=num2date(fitdate(target))"
     ],
     "language": "python",
     "metadata": {},
     "outputs": [],
     "prompt_number": 56
    },
    {
     "cell_type": "markdown",
     "metadata": {},
     "source": [
      "Add a column of the fitted data."
     ]
    },
    {
     "cell_type": "code",
     "collapsed": false,
     "input": [
      "df['Fit'] = fit(df['DateNum'][-NRECENT:])\n",
      "recent = df[-NRECENT:]"
     ],
     "language": "python",
     "metadata": {},
     "outputs": [],
     "prompt_number": 57
    },
    {
     "cell_type": "code",
     "collapsed": false,
     "input": [
      "df.tail(10)"
     ],
     "language": "python",
     "metadata": {},
     "outputs": [
      {
       "html": [
        "<div style=\"max-height:1000px;max-width:1500px;overflow:auto;\">\n",
        "<table border=\"1\" class=\"dataframe\">\n",
        "  <thead>\n",
        "    <tr style=\"text-align: right;\">\n",
        "      <th></th>\n",
        "      <th>DateString</th>\n",
        "      <th>Kg</th>\n",
        "      <th>Date</th>\n",
        "      <th>DateNum</th>\n",
        "      <th>St</th>\n",
        "      <th>Lb</th>\n",
        "      <th>Target</th>\n",
        "      <th>Loss</th>\n",
        "      <th>LossLb</th>\n",
        "      <th>Completed%</th>\n",
        "      <th>Filtered</th>\n",
        "      <th>Fit</th>\n",
        "    </tr>\n",
        "  </thead>\n",
        "  <tbody>\n",
        "    <tr>\n",
        "      <th>68</th>\n",
        "      <td> 10-Mar-2014</td>\n",
        "      <td> 95.7</td>\n",
        "      <td>2014-03-10 00:00:00</td>\n",
        "      <td> 735302</td>\n",
        "      <td> 15</td>\n",
        "      <td>  0</td>\n",
        "      <td> 92.099399</td>\n",
        "      <td>  9.1</td>\n",
        "      <td> 20.062042</td>\n",
        "      <td> 71.650150</td>\n",
        "      <td> 96.100000</td>\n",
        "      <td> 95.566838</td>\n",
        "    </tr>\n",
        "    <tr>\n",
        "      <th>69</th>\n",
        "      <td> 11-Mar-2014</td>\n",
        "      <td> 95.6</td>\n",
        "      <td>2014-03-11 00:00:00</td>\n",
        "      <td> 735303</td>\n",
        "      <td> 15</td>\n",
        "      <td>  0</td>\n",
        "      <td> 92.099399</td>\n",
        "      <td>  9.2</td>\n",
        "      <td> 20.282504</td>\n",
        "      <td> 72.437514</td>\n",
        "      <td> 96.057143</td>\n",
        "      <td> 95.457488</td>\n",
        "    </tr>\n",
        "    <tr>\n",
        "      <th>70</th>\n",
        "      <td> 12-Mar-2014</td>\n",
        "      <td> 95.0</td>\n",
        "      <td>2014-03-12 00:00:00</td>\n",
        "      <td> 735304</td>\n",
        "      <td> 14</td>\n",
        "      <td> 13</td>\n",
        "      <td> 92.099399</td>\n",
        "      <td>  9.8</td>\n",
        "      <td> 21.605276</td>\n",
        "      <td> 77.161700</td>\n",
        "      <td> 95.900000</td>\n",
        "      <td> 95.348137</td>\n",
        "    </tr>\n",
        "    <tr>\n",
        "      <th>71</th>\n",
        "      <td> 13-Mar-2014</td>\n",
        "      <td> 95.3</td>\n",
        "      <td>2014-03-13 00:00:00</td>\n",
        "      <td> 735305</td>\n",
        "      <td> 15</td>\n",
        "      <td>  0</td>\n",
        "      <td> 92.099399</td>\n",
        "      <td>  9.5</td>\n",
        "      <td> 20.943890</td>\n",
        "      <td> 74.799607</td>\n",
        "      <td> 95.742857</td>\n",
        "      <td> 95.238786</td>\n",
        "    </tr>\n",
        "    <tr>\n",
        "      <th>72</th>\n",
        "      <td> 14-Mar-2014</td>\n",
        "      <td> 94.7</td>\n",
        "      <td>2014-03-14 00:00:00</td>\n",
        "      <td> 735306</td>\n",
        "      <td> 14</td>\n",
        "      <td> 12</td>\n",
        "      <td> 92.099399</td>\n",
        "      <td> 10.1</td>\n",
        "      <td> 22.266662</td>\n",
        "      <td> 79.523793</td>\n",
        "      <td> 95.528571</td>\n",
        "      <td> 95.129436</td>\n",
        "    </tr>\n",
        "    <tr>\n",
        "      <th>73</th>\n",
        "      <td> 15-Mar-2014</td>\n",
        "      <td> 95.3</td>\n",
        "      <td>2014-03-15 00:00:00</td>\n",
        "      <td> 735307</td>\n",
        "      <td> 15</td>\n",
        "      <td>  0</td>\n",
        "      <td> 92.099399</td>\n",
        "      <td>  9.5</td>\n",
        "      <td> 20.943890</td>\n",
        "      <td> 74.799607</td>\n",
        "      <td> 95.342857</td>\n",
        "      <td> 95.020085</td>\n",
        "    </tr>\n",
        "    <tr>\n",
        "      <th>74</th>\n",
        "      <td> 16-Mar-2014</td>\n",
        "      <td> 95.1</td>\n",
        "      <td>2014-03-16 00:00:00</td>\n",
        "      <td> 735308</td>\n",
        "      <td> 14</td>\n",
        "      <td> 13</td>\n",
        "      <td> 92.099399</td>\n",
        "      <td>  9.7</td>\n",
        "      <td> 21.384814</td>\n",
        "      <td> 76.374336</td>\n",
        "      <td> 95.242857</td>\n",
        "      <td> 94.910734</td>\n",
        "    </tr>\n",
        "    <tr>\n",
        "      <th>75</th>\n",
        "      <td> 17-Mar-2014</td>\n",
        "      <td> 94.8</td>\n",
        "      <td>2014-03-17 00:00:00</td>\n",
        "      <td> 735309</td>\n",
        "      <td> 14</td>\n",
        "      <td> 12</td>\n",
        "      <td> 92.099399</td>\n",
        "      <td> 10.0</td>\n",
        "      <td> 22.046200</td>\n",
        "      <td> 78.736429</td>\n",
        "      <td> 95.114286</td>\n",
        "      <td> 94.801384</td>\n",
        "    </tr>\n",
        "    <tr>\n",
        "      <th>76</th>\n",
        "      <td> 18-Mar-2014</td>\n",
        "      <td> 94.4</td>\n",
        "      <td>2014-03-18 00:00:00</td>\n",
        "      <td> 735310</td>\n",
        "      <td> 14</td>\n",
        "      <td> 12</td>\n",
        "      <td> 92.099399</td>\n",
        "      <td> 10.4</td>\n",
        "      <td> 22.928048</td>\n",
        "      <td> 81.885886</td>\n",
        "      <td> 94.942857</td>\n",
        "      <td> 94.692033</td>\n",
        "    </tr>\n",
        "    <tr>\n",
        "      <th>77</th>\n",
        "      <td> 19-Mar-2014</td>\n",
        "      <td> 94.2</td>\n",
        "      <td>2014-03-19 00:00:00</td>\n",
        "      <td> 735311</td>\n",
        "      <td> 14</td>\n",
        "      <td> 11</td>\n",
        "      <td> 92.099399</td>\n",
        "      <td> 10.6</td>\n",
        "      <td> 23.368972</td>\n",
        "      <td> 83.460614</td>\n",
        "      <td> 94.828571</td>\n",
        "      <td> 94.582682</td>\n",
        "    </tr>\n",
        "  </tbody>\n",
        "</table>\n",
        "</div>"
       ],
       "metadata": {},
       "output_type": "pyout",
       "prompt_number": 58,
       "text": [
        "     DateString    Kg                Date  DateNum  St  Lb     Target  Loss  \\\n",
        "68  10-Mar-2014  95.7 2014-03-10 00:00:00   735302  15   0  92.099399   9.1   \n",
        "69  11-Mar-2014  95.6 2014-03-11 00:00:00   735303  15   0  92.099399   9.2   \n",
        "70  12-Mar-2014  95.0 2014-03-12 00:00:00   735304  14  13  92.099399   9.8   \n",
        "71  13-Mar-2014  95.3 2014-03-13 00:00:00   735305  15   0  92.099399   9.5   \n",
        "72  14-Mar-2014  94.7 2014-03-14 00:00:00   735306  14  12  92.099399  10.1   \n",
        "73  15-Mar-2014  95.3 2014-03-15 00:00:00   735307  15   0  92.099399   9.5   \n",
        "74  16-Mar-2014  95.1 2014-03-16 00:00:00   735308  14  13  92.099399   9.7   \n",
        "75  17-Mar-2014  94.8 2014-03-17 00:00:00   735309  14  12  92.099399  10.0   \n",
        "76  18-Mar-2014  94.4 2014-03-18 00:00:00   735310  14  12  92.099399  10.4   \n",
        "77  19-Mar-2014  94.2 2014-03-19 00:00:00   735311  14  11  92.099399  10.6   \n",
        "\n",
        "       LossLb  Completed%   Filtered        Fit  \n",
        "68  20.062042   71.650150  96.100000  95.566838  \n",
        "69  20.282504   72.437514  96.057143  95.457488  \n",
        "70  21.605276   77.161700  95.900000  95.348137  \n",
        "71  20.943890   74.799607  95.742857  95.238786  \n",
        "72  22.266662   79.523793  95.528571  95.129436  \n",
        "73  20.943890   74.799607  95.342857  95.020085  \n",
        "74  21.384814   76.374336  95.242857  94.910734  \n",
        "75  22.046200   78.736429  95.114286  94.801384  \n",
        "76  22.928048   81.885886  94.942857  94.692033  \n",
        "77  23.368972   83.460614  94.828571  94.582682  "
       ]
      }
     ],
     "prompt_number": 58
    },
    {
     "cell_type": "heading",
     "level": 2,
     "metadata": {},
     "source": [
      "Weight Change Graph"
     ]
    },
    {
     "cell_type": "code",
     "collapsed": false,
     "input": [
      "fig,ax = plt.subplots()\n",
      "ax.plot_date(df['Date'], df['Kg'], linestyle='--', label='Raw Kg')\n",
      "ax.plot_date(df['Date'], df['Filtered'], color='red', linestyle='-', label='Filtered')\n",
      "if True:\n",
      "    ax.plot_date(df['Date'], df['Target'], color='black', linestyle='-', label='Target')\n",
      "ax.plot_date(df['Date'], df['Fit'], color='green', linestyle='--',label='Linear Fit')\n",
      "fig.autofmt_xdate()\n",
      "ax.annotate('Hit target at %s' % target_date.strftime('%d-%b-%Y'), xy=(735238,105))\n",
      "plt.legend()\n",
      "plt.show()"
     ],
     "language": "python",
     "metadata": {},
     "outputs": [
      {
       "metadata": {},
       "output_type": "display_data",
       "png": "[encoded data removed]",
       "text": [
        "<matplotlib.figure.Figure at 0x107ec3c10>"
       ]
      }
     ],
     "prompt_number": 59
    },
    {
     "cell_type": "heading",
     "level": 2,
     "metadata": {},
     "source": [
      "Daily changes in weight"
     ]
    },
    {
     "cell_type": "code",
     "collapsed": false,
     "input": [
      "deltakg = df['Kg'] - df['Kg'].shift()\n",
      "\n",
      "plt.figure()\n",
      "deltakg.hist(figsize=(6,3), color='lightblue', bins=15)\n",
      "plt.show()"
     ],
     "language": "python",
     "metadata": {},
     "outputs": [
      {
       "metadata": {},
       "output_type": "display_data",
       "png": "[encoded data removed]",
       "text": [
        "<matplotlib.figure.Figure at 0x107e980d0>"
       ]
      }
     ],
     "prompt_number": 60
    },
    {
     "cell_type": "markdown",
     "metadata": {},
     "source": [
      "Average loss per day (kg)"
     ]
    },
    {
     "cell_type": "code",
     "collapsed": false,
     "input": [
      "deltakgfilt = pd.rolling_mean(deltakg, 14) # fortnight\n",
      "\n",
      "fig,ax = plt.subplots()\n",
      "#ax.plot_date(df['Date'], deltakg, linestyle='--', label='Raw DeltaKg')\n",
      "ax.plot_date(df['Date'], deltakgfilt, color='red', linestyle='-', label='Filt DeltaKg')\n",
      "plt.show()\n"
     ],
     "language": "python",
     "metadata": {},
     "outputs": [
      {
       "metadata": {},
       "output_type": "display_data",
       "png": "[encoded data removed]",
       "text": [
        "<matplotlib.figure.Figure at 0x1079e7f90>"
       ]
      }
     ],
     "prompt_number": 61
    },
    {
     "cell_type": "code",
     "collapsed": false,
     "input": [
      "avg_loss = -deltakg.mean()\n",
      "print(\"avg weight loss %skg\" % avg_loss)"
     ],
     "language": "python",
     "metadata": {},
     "outputs": [
      {
       "output_type": "stream",
       "stream": "stdout",
       "text": [
        "avg weight loss 0.137662337662kg\n"
       ]
      }
     ],
     "prompt_number": 62
    },
    {
     "cell_type": "code",
     "collapsed": false,
     "input": [
      "KCAL_PER_KG = 7700 # calories per 1kg loss"
     ],
     "language": "python",
     "metadata": {},
     "outputs": [],
     "prompt_number": 63
    },
    {
     "cell_type": "code",
     "collapsed": false,
     "input": [
      "weight=df['Kg'][df.index[-1]] # kg\n",
      "height=(5 + 9.0/12)*0.3048 # m\n",
      "age = 40\n",
      "\n",
      "# http://www.diabetes.co.uk/bmr-calculator.html\n",
      "activity_mult = 1.375 # light exercise\n",
      "\n",
      "def mifflin(weight, height, age):\n",
      "    #10 x weight (kg) + 6.25 x height (cm) - 5 x age (y) + 5\n",
      "    return 10 * weight + 6.25 * 100 * height - 5 * age + 5\n",
      "\n",
      "bmr = mifflin(weight, height, age)\n",
      "total_calories = bmr * activity_mult\n",
      "print(\"base metabolic rate calories: %s total calories: %s\" % (bmr, total_calories))"
     ],
     "language": "python",
     "metadata": {},
     "outputs": [
      {
       "output_type": "stream",
       "stream": "stdout",
       "text": [
        "base metabolic rate calories: 1842.375 total calories: 2533.265625\n"
       ]
      }
     ],
     "prompt_number": 64
    },
    {
     "cell_type": "code",
     "collapsed": false,
     "input": [
      "cal_deficit = KCAL_PER_KG * avg_loss"
     ],
     "language": "python",
     "metadata": {},
     "outputs": [],
     "prompt_number": 65
    },
    {
     "cell_type": "code",
     "collapsed": false,
     "input": [
      "cals_consumed = total_calories - cal_deficit\n",
      "print(\"est consumed: %.0f cals %.1f%% of req\" % (cals_consumed, 100*cals_consumed/total_calories))"
     ],
     "language": "python",
     "metadata": {},
     "outputs": [
      {
       "output_type": "stream",
       "stream": "stdout",
       "text": [
        "est consumed: 1473 cals 58.2% of req\n"
       ]
      }
     ],
     "prompt_number": 66
    },
    {
     "cell_type": "code",
     "collapsed": false,
     "input": [
      "bmi = weight / height**2\n",
      "print(\"BMI: %s\" % bmi)"
     ],
     "language": "python",
     "metadata": {},
     "outputs": [
      {
       "output_type": "stream",
       "stream": "stdout",
       "text": [
        "BMI: 30.6679882421\n"
       ]
      }
     ],
     "prompt_number": 67
    },
    {
     "cell_type": "code",
     "collapsed": false,
     "input": [
      "# \"overweight\" is BMI<30!\n",
      "woverweight = 30*height**2\n",
      "print \"to be just overweight: %sKg: %s\" % (woverweight, st_lb_str(woverweight))"
     ],
     "language": "python",
     "metadata": {},
     "outputs": [
      {
       "output_type": "stream",
       "stream": "stdout",
       "text": [
        "to be just overweight: 92.1482028Kg: 14st 7lb\n"
       ]
      }
     ],
     "prompt_number": 68
    },
    {
     "cell_type": "code",
     "collapsed": false,
     "input": [
      "wnormal = 25*height**2\n",
      "print \"to be a normal weight: %sKg: %s\" % (wnormal, st_lb_str(wnormal))"
     ],
     "language": "python",
     "metadata": {},
     "outputs": [
      {
       "output_type": "stream",
       "stream": "stdout",
       "text": [
        "to be a normal weight: 76.790169Kg: 12st 1lb\n"
       ]
      }
     ],
     "prompt_number": 69
    },
    {
     "cell_type": "code",
     "collapsed": false,
     "input": [],
     "language": "python",
     "metadata": {},
     "outputs": [],
     "prompt_number": 69
    }
   ],
   "metadata": {}
  }
 ]
}